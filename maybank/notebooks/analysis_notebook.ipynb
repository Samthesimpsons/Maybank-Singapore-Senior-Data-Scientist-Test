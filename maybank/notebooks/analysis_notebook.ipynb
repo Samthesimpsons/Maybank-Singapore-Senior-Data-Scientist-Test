{
 "cells": [
  {
   "cell_type": "markdown",
   "metadata": {},
   "source": [
    "# Do Inference on Entire Dataset"
   ]
  },
  {
   "cell_type": "code",
   "execution_count": 1,
   "metadata": {},
   "outputs": [
    {
     "name": "stdout",
     "output_type": "stream",
     "text": [
      "{0, 1}\n",
      "DataFrame saved to maybank/data/predicted/predicted_data.csv\n"
     ]
    },
    {
     "data": {
      "text/html": [
       "<div>\n",
       "<style scoped>\n",
       "    .dataframe tbody tr th:only-of-type {\n",
       "        vertical-align: middle;\n",
       "    }\n",
       "\n",
       "    .dataframe tbody tr th {\n",
       "        vertical-align: top;\n",
       "    }\n",
       "\n",
       "    .dataframe thead th {\n",
       "        text-align: right;\n",
       "    }\n",
       "</style>\n",
       "<table border=\"1\" class=\"dataframe\">\n",
       "  <thead>\n",
       "    <tr style=\"text-align: right;\">\n",
       "      <th></th>\n",
       "      <th>C_ID</th>\n",
       "      <th>C_AGE</th>\n",
       "      <th>C_EDU</th>\n",
       "      <th>C_HSE</th>\n",
       "      <th>PC</th>\n",
       "      <th>INCM_TYP</th>\n",
       "      <th>gn_occ</th>\n",
       "      <th>NUM_PRD</th>\n",
       "      <th>CASATD_CNT</th>\n",
       "      <th>MTHCASA</th>\n",
       "      <th>...</th>\n",
       "      <th>N_FUNDS</th>\n",
       "      <th>CC_AVE</th>\n",
       "      <th>MAX_MTH_TRN_AMT</th>\n",
       "      <th>MIN_MTH_TRN_AMT</th>\n",
       "      <th>AVG_TRN_AMT</th>\n",
       "      <th>ANN_TRN_AMT</th>\n",
       "      <th>ANN_N_TRX</th>\n",
       "      <th>CC_LMT</th>\n",
       "      <th>Actual</th>\n",
       "      <th>Predicted</th>\n",
       "    </tr>\n",
       "  </thead>\n",
       "  <tbody>\n",
       "    <tr>\n",
       "      <th>0</th>\n",
       "      <td>1443</td>\n",
       "      <td>65</td>\n",
       "      <td>Masters</td>\n",
       "      <td>EXECUTIVE CONDOMINIUM</td>\n",
       "      <td>19250.0</td>\n",
       "      <td>6.0</td>\n",
       "      <td>PMEB</td>\n",
       "      <td>3</td>\n",
       "      <td>8.0</td>\n",
       "      <td>6896.91</td>\n",
       "      <td>...</td>\n",
       "      <td>NaN</td>\n",
       "      <td>13.233333</td>\n",
       "      <td>NaN</td>\n",
       "      <td>NaN</td>\n",
       "      <td>NaN</td>\n",
       "      <td>NaN</td>\n",
       "      <td>NaN</td>\n",
       "      <td>34500.0</td>\n",
       "      <td>1</td>\n",
       "      <td>1</td>\n",
       "    </tr>\n",
       "    <tr>\n",
       "      <th>1</th>\n",
       "      <td>1559</td>\n",
       "      <td>86</td>\n",
       "      <td>O-Levels</td>\n",
       "      <td>PRIVATE CONDOMINIUM</td>\n",
       "      <td>99018.0</td>\n",
       "      <td>2.0</td>\n",
       "      <td>PMEB</td>\n",
       "      <td>4</td>\n",
       "      <td>13.0</td>\n",
       "      <td>51714.78</td>\n",
       "      <td>...</td>\n",
       "      <td>NaN</td>\n",
       "      <td>727.629167</td>\n",
       "      <td>8530.88</td>\n",
       "      <td>273.44</td>\n",
       "      <td>2296.713333</td>\n",
       "      <td>27560.56</td>\n",
       "      <td>88.0</td>\n",
       "      <td>4000.0</td>\n",
       "      <td>1</td>\n",
       "      <td>1</td>\n",
       "    </tr>\n",
       "    <tr>\n",
       "      <th>2</th>\n",
       "      <td>1913</td>\n",
       "      <td>69</td>\n",
       "      <td>A-Levels</td>\n",
       "      <td>NaN</td>\n",
       "      <td>10155.0</td>\n",
       "      <td>3.0</td>\n",
       "      <td>PMEB</td>\n",
       "      <td>4</td>\n",
       "      <td>1.0</td>\n",
       "      <td>5420.09</td>\n",
       "      <td>...</td>\n",
       "      <td>1.0</td>\n",
       "      <td>367.389167</td>\n",
       "      <td>523.35</td>\n",
       "      <td>122.13</td>\n",
       "      <td>283.580833</td>\n",
       "      <td>3402.97</td>\n",
       "      <td>78.0</td>\n",
       "      <td>5000.0</td>\n",
       "      <td>1</td>\n",
       "      <td>1</td>\n",
       "    </tr>\n",
       "  </tbody>\n",
       "</table>\n",
       "<p>3 rows × 31 columns</p>\n",
       "</div>"
      ],
      "text/plain": [
       "   C_ID  C_AGE     C_EDU                  C_HSE       PC  INCM_TYP gn_occ  \\\n",
       "0  1443     65   Masters  EXECUTIVE CONDOMINIUM  19250.0       6.0   PMEB   \n",
       "1  1559     86  O-Levels    PRIVATE CONDOMINIUM  99018.0       2.0   PMEB   \n",
       "2  1913     69  A-Levels                    NaN  10155.0       3.0   PMEB   \n",
       "\n",
       "   NUM_PRD  CASATD_CNT   MTHCASA  ...  N_FUNDS      CC_AVE  MAX_MTH_TRN_AMT  \\\n",
       "0        3         8.0   6896.91  ...      NaN   13.233333              NaN   \n",
       "1        4        13.0  51714.78  ...      NaN  727.629167          8530.88   \n",
       "2        4         1.0   5420.09  ...      1.0  367.389167           523.35   \n",
       "\n",
       "   MIN_MTH_TRN_AMT  AVG_TRN_AMT  ANN_TRN_AMT  ANN_N_TRX   CC_LMT  Actual  \\\n",
       "0              NaN          NaN          NaN        NaN  34500.0       1   \n",
       "1           273.44  2296.713333     27560.56       88.0   4000.0       1   \n",
       "2           122.13   283.580833      3402.97       78.0   5000.0       1   \n",
       "\n",
       "   Predicted  \n",
       "0          1  \n",
       "1          1  \n",
       "2          1  \n",
       "\n",
       "[3 rows x 31 columns]"
      ]
     },
     "execution_count": 1,
     "metadata": {},
     "output_type": "execute_result"
    }
   ],
   "source": [
    "import os\n",
    "import warnings\n",
    "\n",
    "os.chdir(\"C:/Users/samue/Downloads/Maybank/\")\n",
    "warnings.filterwarnings(\"ignore\", category=UserWarning)\n",
    "\n",
    "import joblib\n",
    "import pandas as pd\n",
    "from sklearn.metrics import recall_score, confusion_matrix\n",
    "from maybank.src.utils.utils import save_predicted_data_as_csv\n",
    "from maybank.src.data_processing.data_loading import (\n",
    "    load_catalog,\n",
    "    load_raw_data,\n",
    "    load_processed_data,\n",
    ")\n",
    "\n",
    "data_catalog_config = load_catalog(\"maybank/conf/base/catalog.yaml\")\n",
    "model_catalog_config = load_catalog(\"maybank/conf/base/models.yaml\")\n",
    "\n",
    "raw_data = load_raw_data(data_catalog_config)\n",
    "processed_data = load_processed_data(data_catalog_config)\n",
    "model = joblib.load(model_catalog_config[\"models\"][\"xgboost\"])\n",
    "\n",
    "y = processed_data[\"C_seg\"]\n",
    "X = processed_data.drop(columns=[\"C_seg\"])\n",
    "raw_X = raw_data.drop(columns=[\"C_seg\"])\n",
    "\n",
    "predictions = model.predict(X)\n",
    "\n",
    "predicted_data = pd.concat(\n",
    "    [raw_X, y.rename(\"Actual\"), pd.Series(predictions, name=\"Predicted\")], axis=1\n",
    ")\n",
    "\n",
    "print(set(predicted_data[\"Predicted\"]))\n",
    "\n",
    "save_predicted_data_as_csv(predicted_data, \"maybank/data/predicted/predicted_data.csv\")\n",
    "\n",
    "predicted_data.head(3)"
   ]
  },
  {
   "cell_type": "code",
   "execution_count": 2,
   "metadata": {},
   "outputs": [
    {
     "data": {
      "text/plain": [
       "{'objective': 'binary:logistic',\n",
       " 'base_score': None,\n",
       " 'booster': None,\n",
       " 'callbacks': None,\n",
       " 'colsample_bylevel': None,\n",
       " 'colsample_bynode': None,\n",
       " 'colsample_bytree': 0.6021896910634843,\n",
       " 'device': None,\n",
       " 'early_stopping_rounds': None,\n",
       " 'enable_categorical': False,\n",
       " 'eval_metric': None,\n",
       " 'feature_types': None,\n",
       " 'gamma': 0.030145127416234097,\n",
       " 'grow_policy': None,\n",
       " 'importance_type': None,\n",
       " 'interaction_constraints': None,\n",
       " 'learning_rate': 0.02887905430507317,\n",
       " 'max_bin': None,\n",
       " 'max_cat_threshold': None,\n",
       " 'max_cat_to_onehot': None,\n",
       " 'max_delta_step': None,\n",
       " 'max_depth': 10,\n",
       " 'max_leaves': None,\n",
       " 'min_child_weight': 4,\n",
       " 'missing': nan,\n",
       " 'monotone_constraints': None,\n",
       " 'multi_strategy': None,\n",
       " 'n_estimators': 2284,\n",
       " 'n_jobs': None,\n",
       " 'num_parallel_tree': None,\n",
       " 'random_state': None,\n",
       " 'reg_alpha': None,\n",
       " 'reg_lambda': None,\n",
       " 'sampling_method': None,\n",
       " 'scale_pos_weight': None,\n",
       " 'subsample': 0.7405879685315797,\n",
       " 'tree_method': None,\n",
       " 'validate_parameters': None,\n",
       " 'verbosity': None}"
      ]
     },
     "execution_count": 2,
     "metadata": {},
     "output_type": "execute_result"
    }
   ],
   "source": [
    "model.get_params()"
   ]
  },
  {
   "cell_type": "markdown",
   "metadata": {},
   "source": [
    "# Get Recall, FP (Potential Targets) and apply EDA"
   ]
  },
  {
   "cell_type": "code",
   "execution_count": 3,
   "metadata": {},
   "outputs": [
    {
     "name": "stderr",
     "output_type": "stream",
     "text": [
      "c:\\Users\\samue\\Downloads\\Maybank\\.venv\\Lib\\site-packages\\tqdm\\auto.py:21: TqdmWarning: IProgress not found. Please update jupyter and ipywidgets. See https://ipywidgets.readthedocs.io/en/stable/user_install.html\n",
      "  from .autonotebook import tqdm as notebook_tqdm\n"
     ]
    },
    {
     "name": "stdout",
     "output_type": "stream",
     "text": [
      "Recall: 0.89\n",
      "Number of correct affluent customers: 9716\n",
      "Number of potential affluent customers: 31\n"
     ]
    }
   ],
   "source": [
    "from maybank.src.data_processing.data_preprocessing import perform_eda_with_sweetviz\n",
    "\n",
    "predicted_data[\"TP\"] = (\n",
    "    (predicted_data[\"Actual\"] == 1) & (predicted_data[\"Predicted\"] == 1)\n",
    ").astype(int)\n",
    "predicted_data[\"FP\"] = (\n",
    "    (predicted_data[\"Actual\"] == 0) & (predicted_data[\"Predicted\"] == 1)\n",
    ").astype(int)\n",
    "predicted_data[\"TN\"] = (\n",
    "    (predicted_data[\"Actual\"] == 0) & (predicted_data[\"Predicted\"] == 0)\n",
    ").astype(int)\n",
    "predicted_data[\"FN\"] = (\n",
    "    (predicted_data[\"Actual\"] == 1) & (predicted_data[\"Predicted\"] == 0)\n",
    ").astype(int)\n",
    "recall = predicted_data[\"TP\"].sum() / (\n",
    "    predicted_data[\"TP\"].sum() + predicted_data[\"FN\"].sum()\n",
    ")\n",
    "\n",
    "true_positives = predicted_data[predicted_data[\"TP\"] == 1]\n",
    "false_positives = predicted_data[predicted_data[\"FP\"] == 1]\n",
    "\n",
    "print(f\"Recall: {round(recall,2)}\")\n",
    "\n",
    "print(f\"Number of correct affluent customers: {len(true_positives)}\")\n",
    "\n",
    "print(f\"Number of potential affluent customers: {len(false_positives)}\")"
   ]
  },
  {
   "cell_type": "code",
   "execution_count": 4,
   "metadata": {},
   "outputs": [
    {
     "name": "stderr",
     "output_type": "stream",
     "text": [
      "Done! Use 'show' commands to display/save.   |██████████| [100%]   00:01 -> (00:00 left)\n"
     ]
    },
    {
     "name": "stdout",
     "output_type": "stream",
     "text": [
      "Report maybank/data/predicted/EDA.html was generated! NOTEBOOK/COLAB USERS: the web browser MAY not pop up, regardless, the report IS saved in your notebook/colab files.\n"
     ]
    }
   ],
   "source": [
    "perform_eda_with_sweetviz(\n",
    "    false_positives, html_file_path=\"maybank/data/predicted/EDA.html\"\n",
    ")"
   ]
  },
  {
   "cell_type": "markdown",
   "metadata": {},
   "source": [
    "# Plot Feature Importance"
   ]
  },
  {
   "cell_type": "code",
   "execution_count": 5,
   "metadata": {},
   "outputs": [
    {
     "data": {
      "image/png": "[encoded data removed]",
      "text/plain": [
       "<Figure size 1000x600 with 1 Axes>"
      ]
     },
     "metadata": {},
     "output_type": "display_data"
    }
   ],
   "source": [
    "import xgboost as xgb\n",
    "import matplotlib.pyplot as plt\n",
    "\n",
    "booster = model.get_booster()\n",
    "importance = booster.get_score(importance_type=\"weight\")\n",
    "sorted_importance = sorted(importance.items(), key=lambda x: x[1], reverse=True)\n",
    "\n",
    "features = [x[0] for x in sorted_importance]\n",
    "importances = [x[1] for x in sorted_importance]\n",
    "\n",
    "plt.figure(figsize=(10, 6))\n",
    "plt.barh(features, importances, color=\"skyblue\")\n",
    "plt.xlabel(\"Importance\")\n",
    "plt.ylabel(\"Features\")\n",
    "plt.title(\"Feature Importances\")\n",
    "plt.gca().invert_yaxis()\n",
    "plt.show()"
   ]
  }
 ],
 "metadata": {
  "kernelspec": {
   "display_name": ".venv",
   "language": "python",
   "name": "python3"
  },
  "language_info": {
   "codemirror_mode": {
    "name": "ipython",
    "version": 3
   },
   "file_extension": ".py",
   "mimetype": "text/x-python",
   "name": "python",
   "nbconvert_exporter": "python",
   "pygments_lexer": "ipython3",
   "version": "3.11.4"
  }
 },
 "nbformat": 4,
 "nbformat_minor": 2
}
